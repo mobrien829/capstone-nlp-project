{
 "cells": [
  {
   "cell_type": "markdown",
   "id": "60286ef3",
   "metadata": {},
   "source": [
    "- plot histogram of num of recipes with num ingredients\n",
    "- plot histogram of num of recipes with num of lines in directions\n",
    "- plot bar graph from different sources\n",
    "- plot bar graph from top words in title (word count freq)\n",
    "- plot bar graph from top words in ingredients/NER (word count freq)"
   ]
  }
 ],
 "metadata": {
  "kernelspec": {
   "display_name": "Python 3 (ipykernel)",
   "language": "python",
   "name": "python3"
  },
  "language_info": {
   "codemirror_mode": {
    "name": "ipython",
    "version": 3
   },
   "file_extension": ".py",
   "mimetype": "text/x-python",
   "name": "python",
   "nbconvert_exporter": "python",
   "pygments_lexer": "ipython3",
   "version": "3.10.4"
  }
 },
 "nbformat": 4,
 "nbformat_minor": 5
}
