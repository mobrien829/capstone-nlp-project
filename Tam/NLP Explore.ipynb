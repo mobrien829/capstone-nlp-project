{
 "cells": [
  {
   "cell_type": "markdown",
   "id": "7c15efa4",
   "metadata": {},
   "source": [
    "Objective:\n",
    "- group recipes into topics\n",
    "- input: prompt topic query\n",
    "- output: list of recommeded recipes"
   ]
  },
  {
   "cell_type": "markdown",
   "id": "05c29bc4",
   "metadata": {},
   "source": [
    "## Import packages"
   ]
  },
  {
   "cell_type": "code",
   "execution_count": 1,
   "id": "f8f6b616",
   "metadata": {},
   "outputs": [],
   "source": [
    "import numpy as np\n",
    "import pandas as pd\n",
    "\n",
    "import matplotlib.pyplot as plt\n",
    "%matplotlib inline"
   ]
  },
  {
   "cell_type": "markdown",
   "id": "a3b06791",
   "metadata": {},
   "source": [
    "## Set Options"
   ]
  },
  {
   "cell_type": "code",
   "execution_count": 16,
   "id": "44c44af5",
   "metadata": {},
   "outputs": [],
   "source": [
    "import warnings\n",
    "warnings.filterwarnings('ignore') # ignore warnings"
   ]
  },
  {
   "cell_type": "code",
   "execution_count": 17,
   "id": "c2847643",
   "metadata": {},
   "outputs": [],
   "source": [
    "pd.set_option('display.max_columns', None) # displays all pd columns"
   ]
  },
  {
   "cell_type": "markdown",
   "id": "603b64b5",
   "metadata": {},
   "source": [
    "## Explore Full Dataset"
   ]
  },
  {
   "cell_type": "code",
   "execution_count": 3,
   "id": "cfd2c149",
   "metadata": {},
   "outputs": [],
   "source": [
    "dataset_full = pd.read_csv('dataset/full_dataset.csv')"
   ]
  },
  {
   "cell_type": "code",
   "execution_count": 6,
   "id": "5702eb87",
   "metadata": {
    "scrolled": true
   },
   "outputs": [
    {
     "data": {
      "text/plain": [
       "(2231142, 7)"
      ]
     },
     "execution_count": 6,
     "metadata": {},
     "output_type": "execute_result"
    }
   ],
   "source": [
    "dataset_full.shape\n",
    "# over 2mil obs"
   ]
  },
  {
   "cell_type": "code",
   "execution_count": 18,
   "id": "11b67188",
   "metadata": {
    "scrolled": true
   },
   "outputs": [
    {
     "data": {
      "text/html": [
       "<div>\n",
       "<style scoped>\n",
       "    .dataframe tbody tr th:only-of-type {\n",
       "        vertical-align: middle;\n",
       "    }\n",
       "\n",
       "    .dataframe tbody tr th {\n",
       "        vertical-align: top;\n",
       "    }\n",
       "\n",
       "    .dataframe thead th {\n",
       "        text-align: right;\n",
       "    }\n",
       "</style>\n",
       "<table border=\"1\" class=\"dataframe\">\n",
       "  <thead>\n",
       "    <tr style=\"text-align: right;\">\n",
       "      <th></th>\n",
       "      <th>Unnamed: 0</th>\n",
       "      <th>title</th>\n",
       "      <th>ingredients</th>\n",
       "      <th>directions</th>\n",
       "      <th>link</th>\n",
       "      <th>source</th>\n",
       "      <th>NER</th>\n",
       "    </tr>\n",
       "  </thead>\n",
       "  <tbody>\n",
       "    <tr>\n",
       "      <th>0</th>\n",
       "      <td>0</td>\n",
       "      <td>No-Bake Nut Cookies</td>\n",
       "      <td>[\"1 c. firmly packed brown sugar\", \"1/2 c. eva...</td>\n",
       "      <td>[\"In a heavy 2-quart saucepan, mix brown sugar...</td>\n",
       "      <td>www.cookbooks.com/Recipe-Details.aspx?id=44874</td>\n",
       "      <td>Gathered</td>\n",
       "      <td>[\"brown sugar\", \"milk\", \"vanilla\", \"nuts\", \"bu...</td>\n",
       "    </tr>\n",
       "    <tr>\n",
       "      <th>1</th>\n",
       "      <td>1</td>\n",
       "      <td>Jewell Ball'S Chicken</td>\n",
       "      <td>[\"1 small jar chipped beef, cut up\", \"4 boned ...</td>\n",
       "      <td>[\"Place chipped beef on bottom of baking dish....</td>\n",
       "      <td>www.cookbooks.com/Recipe-Details.aspx?id=699419</td>\n",
       "      <td>Gathered</td>\n",
       "      <td>[\"beef\", \"chicken breasts\", \"cream of mushroom...</td>\n",
       "    </tr>\n",
       "    <tr>\n",
       "      <th>2</th>\n",
       "      <td>2</td>\n",
       "      <td>Creamy Corn</td>\n",
       "      <td>[\"2 (16 oz.) pkg. frozen corn\", \"1 (8 oz.) pkg...</td>\n",
       "      <td>[\"In a slow cooker, combine all ingredients. C...</td>\n",
       "      <td>www.cookbooks.com/Recipe-Details.aspx?id=10570</td>\n",
       "      <td>Gathered</td>\n",
       "      <td>[\"frozen corn\", \"cream cheese\", \"butter\", \"gar...</td>\n",
       "    </tr>\n",
       "    <tr>\n",
       "      <th>3</th>\n",
       "      <td>3</td>\n",
       "      <td>Chicken Funny</td>\n",
       "      <td>[\"1 large whole chicken\", \"2 (10 1/2 oz.) cans...</td>\n",
       "      <td>[\"Boil and debone chicken.\", \"Put bite size pi...</td>\n",
       "      <td>www.cookbooks.com/Recipe-Details.aspx?id=897570</td>\n",
       "      <td>Gathered</td>\n",
       "      <td>[\"chicken\", \"chicken gravy\", \"cream of mushroo...</td>\n",
       "    </tr>\n",
       "    <tr>\n",
       "      <th>4</th>\n",
       "      <td>4</td>\n",
       "      <td>Reeses Cups(Candy)</td>\n",
       "      <td>[\"1 c. peanut butter\", \"3/4 c. graham cracker ...</td>\n",
       "      <td>[\"Combine first four ingredients and press in ...</td>\n",
       "      <td>www.cookbooks.com/Recipe-Details.aspx?id=659239</td>\n",
       "      <td>Gathered</td>\n",
       "      <td>[\"peanut butter\", \"graham cracker crumbs\", \"bu...</td>\n",
       "    </tr>\n",
       "  </tbody>\n",
       "</table>\n",
       "</div>"
      ],
      "text/plain": [
       "   Unnamed: 0                  title  \\\n",
       "0           0    No-Bake Nut Cookies   \n",
       "1           1  Jewell Ball'S Chicken   \n",
       "2           2            Creamy Corn   \n",
       "3           3          Chicken Funny   \n",
       "4           4   Reeses Cups(Candy)     \n",
       "\n",
       "                                         ingredients  \\\n",
       "0  [\"1 c. firmly packed brown sugar\", \"1/2 c. eva...   \n",
       "1  [\"1 small jar chipped beef, cut up\", \"4 boned ...   \n",
       "2  [\"2 (16 oz.) pkg. frozen corn\", \"1 (8 oz.) pkg...   \n",
       "3  [\"1 large whole chicken\", \"2 (10 1/2 oz.) cans...   \n",
       "4  [\"1 c. peanut butter\", \"3/4 c. graham cracker ...   \n",
       "\n",
       "                                          directions  \\\n",
       "0  [\"In a heavy 2-quart saucepan, mix brown sugar...   \n",
       "1  [\"Place chipped beef on bottom of baking dish....   \n",
       "2  [\"In a slow cooker, combine all ingredients. C...   \n",
       "3  [\"Boil and debone chicken.\", \"Put bite size pi...   \n",
       "4  [\"Combine first four ingredients and press in ...   \n",
       "\n",
       "                                              link    source  \\\n",
       "0   www.cookbooks.com/Recipe-Details.aspx?id=44874  Gathered   \n",
       "1  www.cookbooks.com/Recipe-Details.aspx?id=699419  Gathered   \n",
       "2   www.cookbooks.com/Recipe-Details.aspx?id=10570  Gathered   \n",
       "3  www.cookbooks.com/Recipe-Details.aspx?id=897570  Gathered   \n",
       "4  www.cookbooks.com/Recipe-Details.aspx?id=659239  Gathered   \n",
       "\n",
       "                                                 NER  \n",
       "0  [\"brown sugar\", \"milk\", \"vanilla\", \"nuts\", \"bu...  \n",
       "1  [\"beef\", \"chicken breasts\", \"cream of mushroom...  \n",
       "2  [\"frozen corn\", \"cream cheese\", \"butter\", \"gar...  \n",
       "3  [\"chicken\", \"chicken gravy\", \"cream of mushroo...  \n",
       "4  [\"peanut butter\", \"graham cracker crumbs\", \"bu...  "
      ]
     },
     "execution_count": 18,
     "metadata": {},
     "output_type": "execute_result"
    }
   ],
   "source": [
    "dataset_full.head()"
   ]
  },
  {
   "cell_type": "code",
   "execution_count": 7,
   "id": "1186ec58",
   "metadata": {
    "scrolled": true
   },
   "outputs": [
    {
     "data": {
      "text/plain": [
       "Unnamed: 0     0\n",
       "title          0\n",
       "ingredients    0\n",
       "directions     0\n",
       "link           0\n",
       "source         0\n",
       "NER            0\n",
       "dtype: int64"
      ]
     },
     "execution_count": 7,
     "metadata": {},
     "output_type": "execute_result"
    }
   ],
   "source": [
    "dataset_full.isnull().sum().sort_values(axis=0, ascending=False)\n",
    "# no missing values - very good for 2mil"
   ]
  },
  {
   "cell_type": "markdown",
   "id": "ebc4843f",
   "metadata": {},
   "source": [
    "## Explore Subset"
   ]
  },
  {
   "cell_type": "code",
   "execution_count": 8,
   "id": "fa0ece1a",
   "metadata": {},
   "outputs": [],
   "source": [
    "# subset with sample - get 10k obs\n",
    "recipe_10k = dataset_full.sample(n=10000, random_state=10)"
   ]
  },
  {
   "cell_type": "code",
   "execution_count": 9,
   "id": "98fdd4ff",
   "metadata": {
    "scrolled": true
   },
   "outputs": [
    {
     "data": {
      "text/plain": [
       "(10000, 7)"
      ]
     },
     "execution_count": 9,
     "metadata": {},
     "output_type": "execute_result"
    }
   ],
   "source": [
    "recipe_10k.shape"
   ]
  },
  {
   "cell_type": "code",
   "execution_count": 19,
   "id": "08919aa6",
   "metadata": {
    "scrolled": true
   },
   "outputs": [
    {
     "data": {
      "text/html": [
       "<div>\n",
       "<style scoped>\n",
       "    .dataframe tbody tr th:only-of-type {\n",
       "        vertical-align: middle;\n",
       "    }\n",
       "\n",
       "    .dataframe tbody tr th {\n",
       "        vertical-align: top;\n",
       "    }\n",
       "\n",
       "    .dataframe thead th {\n",
       "        text-align: right;\n",
       "    }\n",
       "</style>\n",
       "<table border=\"1\" class=\"dataframe\">\n",
       "  <thead>\n",
       "    <tr style=\"text-align: right;\">\n",
       "      <th></th>\n",
       "      <th>Unnamed: 0</th>\n",
       "      <th>title</th>\n",
       "      <th>ingredients</th>\n",
       "      <th>directions</th>\n",
       "      <th>link</th>\n",
       "      <th>source</th>\n",
       "      <th>NER</th>\n",
       "    </tr>\n",
       "  </thead>\n",
       "  <tbody>\n",
       "    <tr>\n",
       "      <th>869976</th>\n",
       "      <td>869976</td>\n",
       "      <td>Oatmeal Pie</td>\n",
       "      <td>[\"3 eggs\", \"2/3 c. granulated sugar\", \"1 c. li...</td>\n",
       "      <td>[\"With electric mixer, combine eggs, sugars, v...</td>\n",
       "      <td>www.cookbooks.com/Recipe-Details.aspx?id=180165</td>\n",
       "      <td>Gathered</td>\n",
       "      <td>[\"eggs\", \"granulated sugar\", \"light brown suga...</td>\n",
       "    </tr>\n",
       "    <tr>\n",
       "      <th>798114</th>\n",
       "      <td>798114</td>\n",
       "      <td>Old-Fashioned Lemonade</td>\n",
       "      <td>[\"4 lemons\", \"3/4 c. sugar\", \"4 c. cold water\"]</td>\n",
       "      <td>[\"Cut lemons into very thin slices. Remove see...</td>\n",
       "      <td>www.cookbooks.com/Recipe-Details.aspx?id=967704</td>\n",
       "      <td>Gathered</td>\n",
       "      <td>[\"lemons\", \"sugar\", \"cold water\"]</td>\n",
       "    </tr>\n",
       "    <tr>\n",
       "      <th>35937</th>\n",
       "      <td>35937</td>\n",
       "      <td>Instant Cocoa Mix</td>\n",
       "      <td>[\"2 3/4 c. instant nonfat dry milk\", \"1 1/2 c....</td>\n",
       "      <td>[\"Sift together all ingredients.\", \"To serve, ...</td>\n",
       "      <td>www.cookbooks.com/Recipe-Details.aspx?id=341684</td>\n",
       "      <td>Gathered</td>\n",
       "      <td>[\"milk\", \"instant cocoa\", \"nondairy coffee\", \"...</td>\n",
       "    </tr>\n",
       "    <tr>\n",
       "      <th>1737298</th>\n",
       "      <td>1737298</td>\n",
       "      <td>Blueberry &amp; Lemon Zest Biscuits-Grain/Diary Free</td>\n",
       "      <td>[\"2- 1/2 cups Almond Flour\", \"1/2 teaspoons Sa...</td>\n",
       "      <td>[\"First off, Honeville Almond Flour has the be...</td>\n",
       "      <td>tastykitchen.com/recipes/special-dietary-needs...</td>\n",
       "      <td>Recipes1M</td>\n",
       "      <td>[\"Flour\", \"Salt\", \"Baking Soda\", \"Coconut Oil\"...</td>\n",
       "    </tr>\n",
       "    <tr>\n",
       "      <th>959447</th>\n",
       "      <td>959447</td>\n",
       "      <td>Chicken Masala Curry</td>\n",
       "      <td>[\"2 cups onions, thinly sliced\", \"4 tablespoon...</td>\n",
       "      <td>[\"In a wok, dutch oven or deep saute pan, fry ...</td>\n",
       "      <td>www.food.com/recipe/chicken-masala-curry-493916</td>\n",
       "      <td>Gathered</td>\n",
       "      <td>[\"onions\", \"vegetable oil\", \"garlic\", \"ginger\"...</td>\n",
       "    </tr>\n",
       "  </tbody>\n",
       "</table>\n",
       "</div>"
      ],
      "text/plain": [
       "         Unnamed: 0                                             title  \\\n",
       "869976       869976                                       Oatmeal Pie   \n",
       "798114       798114                            Old-Fashioned Lemonade   \n",
       "35937         35937                                 Instant Cocoa Mix   \n",
       "1737298     1737298  Blueberry & Lemon Zest Biscuits-Grain/Diary Free   \n",
       "959447       959447                              Chicken Masala Curry   \n",
       "\n",
       "                                               ingredients  \\\n",
       "869976   [\"3 eggs\", \"2/3 c. granulated sugar\", \"1 c. li...   \n",
       "798114     [\"4 lemons\", \"3/4 c. sugar\", \"4 c. cold water\"]   \n",
       "35937    [\"2 3/4 c. instant nonfat dry milk\", \"1 1/2 c....   \n",
       "1737298  [\"2- 1/2 cups Almond Flour\", \"1/2 teaspoons Sa...   \n",
       "959447   [\"2 cups onions, thinly sliced\", \"4 tablespoon...   \n",
       "\n",
       "                                                directions  \\\n",
       "869976   [\"With electric mixer, combine eggs, sugars, v...   \n",
       "798114   [\"Cut lemons into very thin slices. Remove see...   \n",
       "35937    [\"Sift together all ingredients.\", \"To serve, ...   \n",
       "1737298  [\"First off, Honeville Almond Flour has the be...   \n",
       "959447   [\"In a wok, dutch oven or deep saute pan, fry ...   \n",
       "\n",
       "                                                      link     source  \\\n",
       "869976     www.cookbooks.com/Recipe-Details.aspx?id=180165   Gathered   \n",
       "798114     www.cookbooks.com/Recipe-Details.aspx?id=967704   Gathered   \n",
       "35937      www.cookbooks.com/Recipe-Details.aspx?id=341684   Gathered   \n",
       "1737298  tastykitchen.com/recipes/special-dietary-needs...  Recipes1M   \n",
       "959447     www.food.com/recipe/chicken-masala-curry-493916   Gathered   \n",
       "\n",
       "                                                       NER  \n",
       "869976   [\"eggs\", \"granulated sugar\", \"light brown suga...  \n",
       "798114                   [\"lemons\", \"sugar\", \"cold water\"]  \n",
       "35937    [\"milk\", \"instant cocoa\", \"nondairy coffee\", \"...  \n",
       "1737298  [\"Flour\", \"Salt\", \"Baking Soda\", \"Coconut Oil\"...  \n",
       "959447   [\"onions\", \"vegetable oil\", \"garlic\", \"ginger\"...  "
      ]
     },
     "execution_count": 19,
     "metadata": {},
     "output_type": "execute_result"
    }
   ],
   "source": [
    "recipe_10k.head()"
   ]
  },
  {
   "cell_type": "code",
   "execution_count": 21,
   "id": "effae613",
   "metadata": {},
   "outputs": [
    {
     "data": {
      "text/plain": [
       "Unnamed: 0                                                869976\n",
       "title                                                Oatmeal Pie\n",
       "ingredients    [\"3 eggs\", \"2/3 c. granulated sugar\", \"1 c. li...\n",
       "directions     [\"With electric mixer, combine eggs, sugars, v...\n",
       "link             www.cookbooks.com/Recipe-Details.aspx?id=180165\n",
       "source                                                  Gathered\n",
       "NER            [\"eggs\", \"granulated sugar\", \"light brown suga...\n",
       "Name: 869976, dtype: object"
      ]
     },
     "execution_count": 21,
     "metadata": {},
     "output_type": "execute_result"
    }
   ],
   "source": [
    "recipe_10k.iloc[0]"
   ]
  },
  {
   "cell_type": "code",
   "execution_count": 22,
   "id": "b48ba7ed",
   "metadata": {},
   "outputs": [
    {
     "data": {
      "text/plain": [
       "'[\"3 eggs\", \"2/3 c. granulated sugar\", \"1 c. light brown sugar (not packed)\", \"1 tsp. vanilla\", \"1/2 c. milk\", \"2 Tbsp. butter, softened\", \"2/3 c. quick-cooking rolled oats (uncooked)\", \"2/3 c. flaked coconut\", \"1/2 c. chopped pecans\", \"1 (9-inch) deep dish or 1 (10-inch) pie shell (unbaked)\", \"vanilla ice cream (optional)\", \"caramel sauce (optional)\"]'"
      ]
     },
     "execution_count": 22,
     "metadata": {},
     "output_type": "execute_result"
    }
   ],
   "source": [
    "recipe_10k.iloc[0][2]"
   ]
  },
  {
   "cell_type": "code",
   "execution_count": 23,
   "id": "8482e658",
   "metadata": {},
   "outputs": [
    {
     "data": {
      "text/plain": [
       "'[\"With electric mixer, combine eggs, sugars, vanilla, milk and butter; mix until well blended.\", \"Stir in oats, coconut and pecans; stir to mix well.\", \"Pour into unbaked pie shell.\", \"Bake in preheated 350\\\\u00b0 oven for 45 minutes or until pie is set and lightly browned.\", \"Serve with vanilla ice cream topped with caramel sauce, if desired.\", \"Makes 1 pie, 6 to 8 servings.\"]'"
      ]
     },
     "execution_count": 23,
     "metadata": {},
     "output_type": "execute_result"
    }
   ],
   "source": [
    "recipe_10k.iloc[0][3]"
   ]
  },
  {
   "cell_type": "code",
   "execution_count": 24,
   "id": "0bb5f753",
   "metadata": {},
   "outputs": [
    {
     "data": {
      "text/plain": [
       "'www.cookbooks.com/Recipe-Details.aspx?id=180165'"
      ]
     },
     "execution_count": 24,
     "metadata": {},
     "output_type": "execute_result"
    }
   ],
   "source": [
    "recipe_10k.iloc[0][4]"
   ]
  },
  {
   "cell_type": "code",
   "execution_count": 26,
   "id": "b7c3a3c5",
   "metadata": {},
   "outputs": [
    {
     "data": {
      "text/plain": [
       "'[\"eggs\", \"granulated sugar\", \"light brown sugar\", \"vanilla\", \"milk\", \"butter\", \"quick-cooking\", \"flaked coconut\", \"pecans\", \"pie shell\", \"vanilla ice cream\", \"caramel sauce\"]'"
      ]
     },
     "execution_count": 26,
     "metadata": {},
     "output_type": "execute_result"
    }
   ],
   "source": [
    "recipe_10k.iloc[0][6]"
   ]
  },
  {
   "cell_type": "code",
   "execution_count": 27,
   "id": "c596452c",
   "metadata": {},
   "outputs": [],
   "source": [
    "# could use the 'NER' col instead of extracting from 'ingredients' col"
   ]
  },
  {
   "cell_type": "markdown",
   "id": "687a0345",
   "metadata": {},
   "source": [
    "## Try Bertopic"
   ]
  },
  {
   "cell_type": "code",
   "execution_count": 49,
   "id": "ec808959",
   "metadata": {},
   "outputs": [],
   "source": [
    "from bertopic import BERTopic\n",
    "# cannot install bertopic -> try on collab or sparks later"
   ]
  },
  {
   "cell_type": "markdown",
   "id": "ebf7a306",
   "metadata": {},
   "source": [
    "## Try LDA"
   ]
  },
  {
   "cell_type": "code",
   "execution_count": 32,
   "id": "c77b46cc",
   "metadata": {},
   "outputs": [],
   "source": [
    "import gensim"
   ]
  },
  {
   "cell_type": "code",
   "execution_count": 39,
   "id": "6f50b54a",
   "metadata": {
    "scrolled": true
   },
   "outputs": [
    {
     "name": "stderr",
     "output_type": "stream",
     "text": [
      "[nltk_data] Downloading package wordnet to\n",
      "[nltk_data]     /Users/tamtrinh/nltk_data...\n",
      "[nltk_data]   Package wordnet is already up-to-date!\n"
     ]
    },
    {
     "data": {
      "text/plain": [
       "True"
      ]
     },
     "execution_count": 39,
     "metadata": {},
     "output_type": "execute_result"
    }
   ],
   "source": [
    "import gensim\n",
    "from gensim.utils import simple_preprocess\n",
    "from gensim.parsing.preprocessing import STOPWORDS\n",
    "from nltk.stem import WordNetLemmatizer, SnowballStemmer\n",
    "from nltk.stem.porter import *\n",
    "import numpy as np\n",
    "np.random.seed(2018)\n",
    "import nltk\n",
    "nltk.download('wordnet')"
   ]
  },
  {
   "cell_type": "code",
   "execution_count": 42,
   "id": "8f4358ba",
   "metadata": {},
   "outputs": [],
   "source": [
    "stemmer = SnowballStemmer"
   ]
  },
  {
   "cell_type": "code",
   "execution_count": 43,
   "id": "29de1692",
   "metadata": {},
   "outputs": [],
   "source": [
    "def lemmatize_stemming(text):\n",
    "    return stemmer.stem(WordNetLemmatizer().lemmatize(text, pos='v'))\n",
    "# Tokenize and lemmatize\n",
    "def preprocess(text):\n",
    "    result=[]\n",
    "    for token in gensim.utils.simple_preprocess(text) :\n",
    "        if token not in gensim.parsing.preprocessing.STOPWORDS and len(token) > 3:\n",
    "            result.append(lemmatize_stemming(token))\n",
    "            \n",
    "    return result"
   ]
  },
  {
   "cell_type": "code",
   "execution_count": 45,
   "id": "cd95a4a9",
   "metadata": {
    "scrolled": true
   },
   "outputs": [],
   "source": [
    "# processed_docs = recipe_10k['NER'].map(preprocess)\n",
    "# processed_docs[:10]"
   ]
  },
  {
   "cell_type": "code",
   "execution_count": 46,
   "id": "f3a41b10",
   "metadata": {},
   "outputs": [],
   "source": [
    "processed_docs = recipe_10k['NER']"
   ]
  },
  {
   "cell_type": "code",
   "execution_count": 47,
   "id": "024c2f63",
   "metadata": {
    "scrolled": true
   },
   "outputs": [
    {
     "ename": "TypeError",
     "evalue": "doc2bow expects an array of unicode tokens on input, not a single string",
     "output_type": "error",
     "traceback": [
      "\u001b[0;31m---------------------------------------------------------------------------\u001b[0m",
      "\u001b[0;31mTypeError\u001b[0m                                 Traceback (most recent call last)",
      "Input \u001b[0;32mIn [47]\u001b[0m, in \u001b[0;36m<cell line: 1>\u001b[0;34m()\u001b[0m\n\u001b[0;32m----> 1\u001b[0m dictionary \u001b[38;5;241m=\u001b[39m \u001b[43mgensim\u001b[49m\u001b[38;5;241;43m.\u001b[39;49m\u001b[43mcorpora\u001b[49m\u001b[38;5;241;43m.\u001b[39;49m\u001b[43mDictionary\u001b[49m\u001b[43m(\u001b[49m\u001b[43mprocessed_docs\u001b[49m\u001b[43m)\u001b[49m\n",
      "File \u001b[0;32m/Library/Frameworks/Python.framework/Versions/3.10/lib/python3.10/site-packages/gensim/corpora/dictionary.py:78\u001b[0m, in \u001b[0;36mDictionary.__init__\u001b[0;34m(self, documents, prune_at)\u001b[0m\n\u001b[1;32m     75\u001b[0m \u001b[38;5;28mself\u001b[39m\u001b[38;5;241m.\u001b[39mnum_nnz \u001b[38;5;241m=\u001b[39m \u001b[38;5;241m0\u001b[39m\n\u001b[1;32m     77\u001b[0m \u001b[38;5;28;01mif\u001b[39;00m documents \u001b[38;5;129;01mis\u001b[39;00m \u001b[38;5;129;01mnot\u001b[39;00m \u001b[38;5;28;01mNone\u001b[39;00m:\n\u001b[0;32m---> 78\u001b[0m     \u001b[38;5;28;43mself\u001b[39;49m\u001b[38;5;241;43m.\u001b[39;49m\u001b[43madd_documents\u001b[49m\u001b[43m(\u001b[49m\u001b[43mdocuments\u001b[49m\u001b[43m,\u001b[49m\u001b[43m \u001b[49m\u001b[43mprune_at\u001b[49m\u001b[38;5;241;43m=\u001b[39;49m\u001b[43mprune_at\u001b[49m\u001b[43m)\u001b[49m\n\u001b[1;32m     79\u001b[0m     \u001b[38;5;28mself\u001b[39m\u001b[38;5;241m.\u001b[39madd_lifecycle_event(\n\u001b[1;32m     80\u001b[0m         \u001b[38;5;124m\"\u001b[39m\u001b[38;5;124mcreated\u001b[39m\u001b[38;5;124m\"\u001b[39m,\n\u001b[1;32m     81\u001b[0m         msg\u001b[38;5;241m=\u001b[39m\u001b[38;5;124mf\u001b[39m\u001b[38;5;124m\"\u001b[39m\u001b[38;5;124mbuilt \u001b[39m\u001b[38;5;132;01m{\u001b[39;00m\u001b[38;5;28mself\u001b[39m\u001b[38;5;132;01m}\u001b[39;00m\u001b[38;5;124m from \u001b[39m\u001b[38;5;132;01m{\u001b[39;00m\u001b[38;5;28mself\u001b[39m\u001b[38;5;241m.\u001b[39mnum_docs\u001b[38;5;132;01m}\u001b[39;00m\u001b[38;5;124m documents (total \u001b[39m\u001b[38;5;132;01m{\u001b[39;00m\u001b[38;5;28mself\u001b[39m\u001b[38;5;241m.\u001b[39mnum_pos\u001b[38;5;132;01m}\u001b[39;00m\u001b[38;5;124m corpus positions)\u001b[39m\u001b[38;5;124m\"\u001b[39m,\n\u001b[1;32m     82\u001b[0m     )\n",
      "File \u001b[0;32m/Library/Frameworks/Python.framework/Versions/3.10/lib/python3.10/site-packages/gensim/corpora/dictionary.py:204\u001b[0m, in \u001b[0;36mDictionary.add_documents\u001b[0;34m(self, documents, prune_at)\u001b[0m\n\u001b[1;32m    201\u001b[0m         logger\u001b[38;5;241m.\u001b[39minfo(\u001b[38;5;124m\"\u001b[39m\u001b[38;5;124madding document #\u001b[39m\u001b[38;5;132;01m%i\u001b[39;00m\u001b[38;5;124m to \u001b[39m\u001b[38;5;132;01m%s\u001b[39;00m\u001b[38;5;124m\"\u001b[39m, docno, \u001b[38;5;28mself\u001b[39m)\n\u001b[1;32m    203\u001b[0m     \u001b[38;5;66;03m# update Dictionary with the document\u001b[39;00m\n\u001b[0;32m--> 204\u001b[0m     \u001b[38;5;28;43mself\u001b[39;49m\u001b[38;5;241;43m.\u001b[39;49m\u001b[43mdoc2bow\u001b[49m\u001b[43m(\u001b[49m\u001b[43mdocument\u001b[49m\u001b[43m,\u001b[49m\u001b[43m \u001b[49m\u001b[43mallow_update\u001b[49m\u001b[38;5;241;43m=\u001b[39;49m\u001b[38;5;28;43;01mTrue\u001b[39;49;00m\u001b[43m)\u001b[49m  \u001b[38;5;66;03m# ignore the result, here we only care about updating token ids\u001b[39;00m\n\u001b[1;32m    206\u001b[0m logger\u001b[38;5;241m.\u001b[39minfo(\u001b[38;5;124m\"\u001b[39m\u001b[38;5;124mbuilt \u001b[39m\u001b[38;5;132;01m%s\u001b[39;00m\u001b[38;5;124m from \u001b[39m\u001b[38;5;132;01m%i\u001b[39;00m\u001b[38;5;124m documents (total \u001b[39m\u001b[38;5;132;01m%i\u001b[39;00m\u001b[38;5;124m corpus positions)\u001b[39m\u001b[38;5;124m\"\u001b[39m, \u001b[38;5;28mself\u001b[39m, \u001b[38;5;28mself\u001b[39m\u001b[38;5;241m.\u001b[39mnum_docs, \u001b[38;5;28mself\u001b[39m\u001b[38;5;241m.\u001b[39mnum_pos)\n",
      "File \u001b[0;32m/Library/Frameworks/Python.framework/Versions/3.10/lib/python3.10/site-packages/gensim/corpora/dictionary.py:241\u001b[0m, in \u001b[0;36mDictionary.doc2bow\u001b[0;34m(self, document, allow_update, return_missing)\u001b[0m\n\u001b[1;32m    209\u001b[0m \u001b[38;5;124;03m\"\"\"Convert `document` into the bag-of-words (BoW) format = list of `(token_id, token_count)` tuples.\u001b[39;00m\n\u001b[1;32m    210\u001b[0m \n\u001b[1;32m    211\u001b[0m \u001b[38;5;124;03mParameters\u001b[39;00m\n\u001b[0;32m   (...)\u001b[0m\n\u001b[1;32m    238\u001b[0m \n\u001b[1;32m    239\u001b[0m \u001b[38;5;124;03m\"\"\"\u001b[39;00m\n\u001b[1;32m    240\u001b[0m \u001b[38;5;28;01mif\u001b[39;00m \u001b[38;5;28misinstance\u001b[39m(document, \u001b[38;5;28mstr\u001b[39m):\n\u001b[0;32m--> 241\u001b[0m     \u001b[38;5;28;01mraise\u001b[39;00m \u001b[38;5;167;01mTypeError\u001b[39;00m(\u001b[38;5;124m\"\u001b[39m\u001b[38;5;124mdoc2bow expects an array of unicode tokens on input, not a single string\u001b[39m\u001b[38;5;124m\"\u001b[39m)\n\u001b[1;32m    243\u001b[0m \u001b[38;5;66;03m# Construct (word, frequency) mapping.\u001b[39;00m\n\u001b[1;32m    244\u001b[0m counter \u001b[38;5;241m=\u001b[39m defaultdict(\u001b[38;5;28mint\u001b[39m)\n",
      "\u001b[0;31mTypeError\u001b[0m: doc2bow expects an array of unicode tokens on input, not a single string"
     ]
    }
   ],
   "source": [
    "dictionary = gensim.corpora.Dictionary(processed_docs)"
   ]
  },
  {
   "cell_type": "code",
   "execution_count": null,
   "id": "c8a1f2fc",
   "metadata": {},
   "outputs": [],
   "source": [
    "bow_corpus = [dictionary.doc2bow(doc) for doc in processed_docs]"
   ]
  },
  {
   "cell_type": "code",
   "execution_count": null,
   "id": "d372c786",
   "metadata": {},
   "outputs": [],
   "source": [
    "lda_model =  gensim.models.LdaMulticore(bow_corpus, \n",
    "                                   num_topics = 8, \n",
    "                                   id2word = dictionary,                                    \n",
    "                                   passes = 10,\n",
    "                                   workers = 2)"
   ]
  }
 ],
 "metadata": {
  "kernelspec": {
   "display_name": "Python 3 (ipykernel)",
   "language": "python",
   "name": "python3"
  },
  "language_info": {
   "codemirror_mode": {
    "name": "ipython",
    "version": 3
   },
   "file_extension": ".py",
   "mimetype": "text/x-python",
   "name": "python",
   "nbconvert_exporter": "python",
   "pygments_lexer": "ipython3",
   "version": "3.10.4"
  }
 },
 "nbformat": 4,
 "nbformat_minor": 5
}
