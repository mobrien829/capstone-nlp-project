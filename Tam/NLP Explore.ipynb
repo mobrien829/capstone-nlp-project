{
 "cells": [
  {
   "cell_type": "markdown",
   "id": "72163057",
   "metadata": {},
   "source": [
    "Objective:\n",
    "- group recipes into topics\n",
    "- input: prompt topic query\n",
    "- output: list of recommeded recipes"
   ]
  },
  {
   "cell_type": "markdown",
   "id": "3c93d622",
   "metadata": {},
   "source": [
    "## Import packages"
   ]
  },
  {
   "cell_type": "code",
   "execution_count": 1,
   "id": "f8f6b616",
   "metadata": {},
   "outputs": [],
   "source": [
    "import numpy as np\n",
    "import pandas as pd\n",
    "\n",
    "import matplotlib.pyplot as plt\n",
    "%matplotlib inline"
   ]
  },
  {
   "cell_type": "markdown",
   "id": "d3fcc07c",
   "metadata": {},
   "source": [
    "## Set Options"
   ]
  },
  {
   "cell_type": "code",
   "execution_count": 16,
   "id": "0883990c",
   "metadata": {},
   "outputs": [],
   "source": [
    "import warnings\n",
    "warnings.filterwarnings('ignore') # ignore warnings"
   ]
  },
  {
   "cell_type": "code",
   "execution_count": 17,
   "id": "ffbfd923",
   "metadata": {},
   "outputs": [],
   "source": [
    "pd.set_option('display.max_columns', None) # displays all pd columns"
   ]
  },
  {
   "cell_type": "markdown",
   "id": "b7b48777",
   "metadata": {},
   "source": [
    "## Explore Full Dataset"
   ]
  },
  {
   "cell_type": "code",
   "execution_count": 3,
   "id": "c741b05c",
   "metadata": {},
   "outputs": [],
   "source": [
    "dataset_full = pd.read_csv('dataset/full_dataset.csv')"
   ]
  },
  {
   "cell_type": "code",
   "execution_count": 6,
   "id": "97d0b303",
   "metadata": {
    "scrolled": true
   },
   "outputs": [
    {
     "data": {
      "text/plain": [
       "(2231142, 7)"
      ]
     },
     "execution_count": 6,
     "metadata": {},
     "output_type": "execute_result"
    }
   ],
   "source": [
    "dataset_full.shape\n",
    "# over 2mil obs"
   ]
  },
  {
   "cell_type": "code",
   "execution_count": 18,
   "id": "8a61a7dd",
   "metadata": {
    "scrolled": true
   },
   "outputs": [
    {
     "data": {
      "text/html": [
       "<div>\n",
       "<style scoped>\n",
       "    .dataframe tbody tr th:only-of-type {\n",
       "        vertical-align: middle;\n",
       "    }\n",
       "\n",
       "    .dataframe tbody tr th {\n",
       "        vertical-align: top;\n",
       "    }\n",
       "\n",
       "    .dataframe thead th {\n",
       "        text-align: right;\n",
       "    }\n",
       "</style>\n",
       "<table border=\"1\" class=\"dataframe\">\n",
       "  <thead>\n",
       "    <tr style=\"text-align: right;\">\n",
       "      <th></th>\n",
       "      <th>Unnamed: 0</th>\n",
       "      <th>title</th>\n",
       "      <th>ingredients</th>\n",
       "      <th>directions</th>\n",
       "      <th>link</th>\n",
       "      <th>source</th>\n",
       "      <th>NER</th>\n",
       "    </tr>\n",
       "  </thead>\n",
       "  <tbody>\n",
       "    <tr>\n",
       "      <th>0</th>\n",
       "      <td>0</td>\n",
       "      <td>No-Bake Nut Cookies</td>\n",
       "      <td>[\"1 c. firmly packed brown sugar\", \"1/2 c. eva...</td>\n",
       "      <td>[\"In a heavy 2-quart saucepan, mix brown sugar...</td>\n",
       "      <td>www.cookbooks.com/Recipe-Details.aspx?id=44874</td>\n",
       "      <td>Gathered</td>\n",
       "      <td>[\"brown sugar\", \"milk\", \"vanilla\", \"nuts\", \"bu...</td>\n",
       "    </tr>\n",
       "    <tr>\n",
       "      <th>1</th>\n",
       "      <td>1</td>\n",
       "      <td>Jewell Ball'S Chicken</td>\n",
       "      <td>[\"1 small jar chipped beef, cut up\", \"4 boned ...</td>\n",
       "      <td>[\"Place chipped beef on bottom of baking dish....</td>\n",
       "      <td>www.cookbooks.com/Recipe-Details.aspx?id=699419</td>\n",
       "      <td>Gathered</td>\n",
       "      <td>[\"beef\", \"chicken breasts\", \"cream of mushroom...</td>\n",
       "    </tr>\n",
       "    <tr>\n",
       "      <th>2</th>\n",
       "      <td>2</td>\n",
       "      <td>Creamy Corn</td>\n",
       "      <td>[\"2 (16 oz.) pkg. frozen corn\", \"1 (8 oz.) pkg...</td>\n",
       "      <td>[\"In a slow cooker, combine all ingredients. C...</td>\n",
       "      <td>www.cookbooks.com/Recipe-Details.aspx?id=10570</td>\n",
       "      <td>Gathered</td>\n",
       "      <td>[\"frozen corn\", \"cream cheese\", \"butter\", \"gar...</td>\n",
       "    </tr>\n",
       "    <tr>\n",
       "      <th>3</th>\n",
       "      <td>3</td>\n",
       "      <td>Chicken Funny</td>\n",
       "      <td>[\"1 large whole chicken\", \"2 (10 1/2 oz.) cans...</td>\n",
       "      <td>[\"Boil and debone chicken.\", \"Put bite size pi...</td>\n",
       "      <td>www.cookbooks.com/Recipe-Details.aspx?id=897570</td>\n",
       "      <td>Gathered</td>\n",
       "      <td>[\"chicken\", \"chicken gravy\", \"cream of mushroo...</td>\n",
       "    </tr>\n",
       "    <tr>\n",
       "      <th>4</th>\n",
       "      <td>4</td>\n",
       "      <td>Reeses Cups(Candy)</td>\n",
       "      <td>[\"1 c. peanut butter\", \"3/4 c. graham cracker ...</td>\n",
       "      <td>[\"Combine first four ingredients and press in ...</td>\n",
       "      <td>www.cookbooks.com/Recipe-Details.aspx?id=659239</td>\n",
       "      <td>Gathered</td>\n",
       "      <td>[\"peanut butter\", \"graham cracker crumbs\", \"bu...</td>\n",
       "    </tr>\n",
       "  </tbody>\n",
       "</table>\n",
       "</div>"
      ],
      "text/plain": [
       "   Unnamed: 0                  title  \\\n",
       "0           0    No-Bake Nut Cookies   \n",
       "1           1  Jewell Ball'S Chicken   \n",
       "2           2            Creamy Corn   \n",
       "3           3          Chicken Funny   \n",
       "4           4   Reeses Cups(Candy)     \n",
       "\n",
       "                                         ingredients  \\\n",
       "0  [\"1 c. firmly packed brown sugar\", \"1/2 c. eva...   \n",
       "1  [\"1 small jar chipped beef, cut up\", \"4 boned ...   \n",
       "2  [\"2 (16 oz.) pkg. frozen corn\", \"1 (8 oz.) pkg...   \n",
       "3  [\"1 large whole chicken\", \"2 (10 1/2 oz.) cans...   \n",
       "4  [\"1 c. peanut butter\", \"3/4 c. graham cracker ...   \n",
       "\n",
       "                                          directions  \\\n",
       "0  [\"In a heavy 2-quart saucepan, mix brown sugar...   \n",
       "1  [\"Place chipped beef on bottom of baking dish....   \n",
       "2  [\"In a slow cooker, combine all ingredients. C...   \n",
       "3  [\"Boil and debone chicken.\", \"Put bite size pi...   \n",
       "4  [\"Combine first four ingredients and press in ...   \n",
       "\n",
       "                                              link    source  \\\n",
       "0   www.cookbooks.com/Recipe-Details.aspx?id=44874  Gathered   \n",
       "1  www.cookbooks.com/Recipe-Details.aspx?id=699419  Gathered   \n",
       "2   www.cookbooks.com/Recipe-Details.aspx?id=10570  Gathered   \n",
       "3  www.cookbooks.com/Recipe-Details.aspx?id=897570  Gathered   \n",
       "4  www.cookbooks.com/Recipe-Details.aspx?id=659239  Gathered   \n",
       "\n",
       "                                                 NER  \n",
       "0  [\"brown sugar\", \"milk\", \"vanilla\", \"nuts\", \"bu...  \n",
       "1  [\"beef\", \"chicken breasts\", \"cream of mushroom...  \n",
       "2  [\"frozen corn\", \"cream cheese\", \"butter\", \"gar...  \n",
       "3  [\"chicken\", \"chicken gravy\", \"cream of mushroo...  \n",
       "4  [\"peanut butter\", \"graham cracker crumbs\", \"bu...  "
      ]
     },
     "execution_count": 18,
     "metadata": {},
     "output_type": "execute_result"
    }
   ],
   "source": [
    "dataset_full.head()"
   ]
  },
  {
   "cell_type": "code",
   "execution_count": 7,
   "id": "4f52bf7a",
   "metadata": {
    "scrolled": true
   },
   "outputs": [
    {
     "data": {
      "text/plain": [
       "Unnamed: 0     0\n",
       "title          0\n",
       "ingredients    0\n",
       "directions     0\n",
       "link           0\n",
       "source         0\n",
       "NER            0\n",
       "dtype: int64"
      ]
     },
     "execution_count": 7,
     "metadata": {},
     "output_type": "execute_result"
    }
   ],
   "source": [
    "dataset_full.isnull().sum().sort_values(axis=0, ascending=False)\n",
    "# no missing values - very good for 2mil"
   ]
  },
  {
   "cell_type": "markdown",
   "id": "1c493f58",
   "metadata": {},
   "source": [
    "## Explore Subset"
   ]
  },
  {
   "cell_type": "code",
   "execution_count": 8,
   "id": "271ae23d",
   "metadata": {},
   "outputs": [],
   "source": [
    "# subset with sample - get 10k obs\n",
    "recipe_10k = dataset_full.sample(n=10000, random_state=10)"
   ]
  },
  {
   "cell_type": "code",
   "execution_count": 9,
   "id": "26def90e",
   "metadata": {
    "scrolled": true
   },
   "outputs": [
    {
     "data": {
      "text/plain": [
       "(10000, 7)"
      ]
     },
     "execution_count": 9,
     "metadata": {},
     "output_type": "execute_result"
    }
   ],
   "source": [
    "recipe_10k.shape"
   ]
  },
  {
   "cell_type": "code",
   "execution_count": 19,
   "id": "8b8eef5b",
   "metadata": {
    "scrolled": true
   },
   "outputs": [
    {
     "data": {
      "text/html": [
       "<div>\n",
       "<style scoped>\n",
       "    .dataframe tbody tr th:only-of-type {\n",
       "        vertical-align: middle;\n",
       "    }\n",
       "\n",
       "    .dataframe tbody tr th {\n",
       "        vertical-align: top;\n",
       "    }\n",
       "\n",
       "    .dataframe thead th {\n",
       "        text-align: right;\n",
       "    }\n",
       "</style>\n",
       "<table border=\"1\" class=\"dataframe\">\n",
       "  <thead>\n",
       "    <tr style=\"text-align: right;\">\n",
       "      <th></th>\n",
       "      <th>Unnamed: 0</th>\n",
       "      <th>title</th>\n",
       "      <th>ingredients</th>\n",
       "      <th>directions</th>\n",
       "      <th>link</th>\n",
       "      <th>source</th>\n",
       "      <th>NER</th>\n",
       "    </tr>\n",
       "  </thead>\n",
       "  <tbody>\n",
       "    <tr>\n",
       "      <th>869976</th>\n",
       "      <td>869976</td>\n",
       "      <td>Oatmeal Pie</td>\n",
       "      <td>[\"3 eggs\", \"2/3 c. granulated sugar\", \"1 c. li...</td>\n",
       "      <td>[\"With electric mixer, combine eggs, sugars, v...</td>\n",
       "      <td>www.cookbooks.com/Recipe-Details.aspx?id=180165</td>\n",
       "      <td>Gathered</td>\n",
       "      <td>[\"eggs\", \"granulated sugar\", \"light brown suga...</td>\n",
       "    </tr>\n",
       "    <tr>\n",
       "      <th>798114</th>\n",
       "      <td>798114</td>\n",
       "      <td>Old-Fashioned Lemonade</td>\n",
       "      <td>[\"4 lemons\", \"3/4 c. sugar\", \"4 c. cold water\"]</td>\n",
       "      <td>[\"Cut lemons into very thin slices. Remove see...</td>\n",
       "      <td>www.cookbooks.com/Recipe-Details.aspx?id=967704</td>\n",
       "      <td>Gathered</td>\n",
       "      <td>[\"lemons\", \"sugar\", \"cold water\"]</td>\n",
       "    </tr>\n",
       "    <tr>\n",
       "      <th>35937</th>\n",
       "      <td>35937</td>\n",
       "      <td>Instant Cocoa Mix</td>\n",
       "      <td>[\"2 3/4 c. instant nonfat dry milk\", \"1 1/2 c....</td>\n",
       "      <td>[\"Sift together all ingredients.\", \"To serve, ...</td>\n",
       "      <td>www.cookbooks.com/Recipe-Details.aspx?id=341684</td>\n",
       "      <td>Gathered</td>\n",
       "      <td>[\"milk\", \"instant cocoa\", \"nondairy coffee\", \"...</td>\n",
       "    </tr>\n",
       "    <tr>\n",
       "      <th>1737298</th>\n",
       "      <td>1737298</td>\n",
       "      <td>Blueberry &amp; Lemon Zest Biscuits-Grain/Diary Free</td>\n",
       "      <td>[\"2- 1/2 cups Almond Flour\", \"1/2 teaspoons Sa...</td>\n",
       "      <td>[\"First off, Honeville Almond Flour has the be...</td>\n",
       "      <td>tastykitchen.com/recipes/special-dietary-needs...</td>\n",
       "      <td>Recipes1M</td>\n",
       "      <td>[\"Flour\", \"Salt\", \"Baking Soda\", \"Coconut Oil\"...</td>\n",
       "    </tr>\n",
       "    <tr>\n",
       "      <th>959447</th>\n",
       "      <td>959447</td>\n",
       "      <td>Chicken Masala Curry</td>\n",
       "      <td>[\"2 cups onions, thinly sliced\", \"4 tablespoon...</td>\n",
       "      <td>[\"In a wok, dutch oven or deep saute pan, fry ...</td>\n",
       "      <td>www.food.com/recipe/chicken-masala-curry-493916</td>\n",
       "      <td>Gathered</td>\n",
       "      <td>[\"onions\", \"vegetable oil\", \"garlic\", \"ginger\"...</td>\n",
       "    </tr>\n",
       "  </tbody>\n",
       "</table>\n",
       "</div>"
      ],
      "text/plain": [
       "         Unnamed: 0                                             title  \\\n",
       "869976       869976                                       Oatmeal Pie   \n",
       "798114       798114                            Old-Fashioned Lemonade   \n",
       "35937         35937                                 Instant Cocoa Mix   \n",
       "1737298     1737298  Blueberry & Lemon Zest Biscuits-Grain/Diary Free   \n",
       "959447       959447                              Chicken Masala Curry   \n",
       "\n",
       "                                               ingredients  \\\n",
       "869976   [\"3 eggs\", \"2/3 c. granulated sugar\", \"1 c. li...   \n",
       "798114     [\"4 lemons\", \"3/4 c. sugar\", \"4 c. cold water\"]   \n",
       "35937    [\"2 3/4 c. instant nonfat dry milk\", \"1 1/2 c....   \n",
       "1737298  [\"2- 1/2 cups Almond Flour\", \"1/2 teaspoons Sa...   \n",
       "959447   [\"2 cups onions, thinly sliced\", \"4 tablespoon...   \n",
       "\n",
       "                                                directions  \\\n",
       "869976   [\"With electric mixer, combine eggs, sugars, v...   \n",
       "798114   [\"Cut lemons into very thin slices. Remove see...   \n",
       "35937    [\"Sift together all ingredients.\", \"To serve, ...   \n",
       "1737298  [\"First off, Honeville Almond Flour has the be...   \n",
       "959447   [\"In a wok, dutch oven or deep saute pan, fry ...   \n",
       "\n",
       "                                                      link     source  \\\n",
       "869976     www.cookbooks.com/Recipe-Details.aspx?id=180165   Gathered   \n",
       "798114     www.cookbooks.com/Recipe-Details.aspx?id=967704   Gathered   \n",
       "35937      www.cookbooks.com/Recipe-Details.aspx?id=341684   Gathered   \n",
       "1737298  tastykitchen.com/recipes/special-dietary-needs...  Recipes1M   \n",
       "959447     www.food.com/recipe/chicken-masala-curry-493916   Gathered   \n",
       "\n",
       "                                                       NER  \n",
       "869976   [\"eggs\", \"granulated sugar\", \"light brown suga...  \n",
       "798114                   [\"lemons\", \"sugar\", \"cold water\"]  \n",
       "35937    [\"milk\", \"instant cocoa\", \"nondairy coffee\", \"...  \n",
       "1737298  [\"Flour\", \"Salt\", \"Baking Soda\", \"Coconut Oil\"...  \n",
       "959447   [\"onions\", \"vegetable oil\", \"garlic\", \"ginger\"...  "
      ]
     },
     "execution_count": 19,
     "metadata": {},
     "output_type": "execute_result"
    }
   ],
   "source": [
    "recipe_10k.head()"
   ]
  },
  {
   "cell_type": "code",
   "execution_count": 21,
   "id": "0d463da9",
   "metadata": {},
   "outputs": [
    {
     "data": {
      "text/plain": [
       "Unnamed: 0                                                869976\n",
       "title                                                Oatmeal Pie\n",
       "ingredients    [\"3 eggs\", \"2/3 c. granulated sugar\", \"1 c. li...\n",
       "directions     [\"With electric mixer, combine eggs, sugars, v...\n",
       "link             www.cookbooks.com/Recipe-Details.aspx?id=180165\n",
       "source                                                  Gathered\n",
       "NER            [\"eggs\", \"granulated sugar\", \"light brown suga...\n",
       "Name: 869976, dtype: object"
      ]
     },
     "execution_count": 21,
     "metadata": {},
     "output_type": "execute_result"
    }
   ],
   "source": [
    "recipe_10k.iloc[0]"
   ]
  },
  {
   "cell_type": "code",
   "execution_count": 22,
   "id": "bb2e607e",
   "metadata": {},
   "outputs": [
    {
     "data": {
      "text/plain": [
       "'[\"3 eggs\", \"2/3 c. granulated sugar\", \"1 c. light brown sugar (not packed)\", \"1 tsp. vanilla\", \"1/2 c. milk\", \"2 Tbsp. butter, softened\", \"2/3 c. quick-cooking rolled oats (uncooked)\", \"2/3 c. flaked coconut\", \"1/2 c. chopped pecans\", \"1 (9-inch) deep dish or 1 (10-inch) pie shell (unbaked)\", \"vanilla ice cream (optional)\", \"caramel sauce (optional)\"]'"
      ]
     },
     "execution_count": 22,
     "metadata": {},
     "output_type": "execute_result"
    }
   ],
   "source": [
    "recipe_10k.iloc[0][2]"
   ]
  },
  {
   "cell_type": "code",
   "execution_count": 23,
   "id": "1a79b694",
   "metadata": {},
   "outputs": [
    {
     "data": {
      "text/plain": [
       "'[\"With electric mixer, combine eggs, sugars, vanilla, milk and butter; mix until well blended.\", \"Stir in oats, coconut and pecans; stir to mix well.\", \"Pour into unbaked pie shell.\", \"Bake in preheated 350\\\\u00b0 oven for 45 minutes or until pie is set and lightly browned.\", \"Serve with vanilla ice cream topped with caramel sauce, if desired.\", \"Makes 1 pie, 6 to 8 servings.\"]'"
      ]
     },
     "execution_count": 23,
     "metadata": {},
     "output_type": "execute_result"
    }
   ],
   "source": [
    "recipe_10k.iloc[0][3]"
   ]
  },
  {
   "cell_type": "code",
   "execution_count": 24,
   "id": "c9773957",
   "metadata": {},
   "outputs": [
    {
     "data": {
      "text/plain": [
       "'www.cookbooks.com/Recipe-Details.aspx?id=180165'"
      ]
     },
     "execution_count": 24,
     "metadata": {},
     "output_type": "execute_result"
    }
   ],
   "source": [
    "recipe_10k.iloc[0][4]"
   ]
  },
  {
   "cell_type": "code",
   "execution_count": 26,
   "id": "3db47beb",
   "metadata": {},
   "outputs": [
    {
     "data": {
      "text/plain": [
       "'[\"eggs\", \"granulated sugar\", \"light brown sugar\", \"vanilla\", \"milk\", \"butter\", \"quick-cooking\", \"flaked coconut\", \"pecans\", \"pie shell\", \"vanilla ice cream\", \"caramel sauce\"]'"
      ]
     },
     "execution_count": 26,
     "metadata": {},
     "output_type": "execute_result"
    }
   ],
   "source": [
    "recipe_10k.iloc[0][6]"
   ]
  },
  {
   "cell_type": "code",
   "execution_count": 27,
   "id": "1146530a",
   "metadata": {},
   "outputs": [],
   "source": [
    "# could use the 'NER' col instead of extracting from 'ingredients' col"
   ]
  },
  {
   "cell_type": "code",
   "execution_count": null,
   "id": "92caa419",
   "metadata": {},
   "outputs": [],
   "source": []
  }
 ],
 "metadata": {
  "kernelspec": {
   "display_name": "Python 3 (ipykernel)",
   "language": "python",
   "name": "python3"
  },
  "language_info": {
   "codemirror_mode": {
    "name": "ipython",
    "version": 3
   },
   "file_extension": ".py",
   "mimetype": "text/x-python",
   "name": "python",
   "nbconvert_exporter": "python",
   "pygments_lexer": "ipython3",
   "version": "3.10.4"
  }
 },
 "nbformat": 4,
 "nbformat_minor": 5
}
